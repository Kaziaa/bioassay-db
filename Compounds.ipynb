{
 "cells": [
  {
   "cell_type": "code",
   "execution_count": 1,
   "metadata": {},
   "outputs": [],
   "source": [
    "from collections import Counter, OrderedDict\n",
    "import os\n",
    "import shutil\n",
    "from urllib.parse import urlparse, urljoin\n",
    "import ftplib\n",
    "import pandas as pd\n",
    "import pybel\n",
    "import json\n",
    "import sqlalchemy\n",
    "\n",
    "from tqdm import tqdm_notebook"
   ]
  },
  {
   "cell_type": "code",
   "execution_count": 2,
   "metadata": {},
   "outputs": [],
   "source": [
    "BASE_URL = 'ftp://ftp.ncbi.nlm.nih.gov/pubchem/'\n",
    "COMPOUND_FOLDER = 'Compound/CURRENT-Full/SDF' "
   ]
  },
  {
   "cell_type": "code",
   "execution_count": 3,
   "metadata": {},
   "outputs": [],
   "source": [
    "parsed_url = urlparse(BASE_URL)"
   ]
  },
  {
   "cell_type": "markdown",
   "metadata": {},
   "source": [
    "## Get list of .sdf.gz files to download"
   ]
  },
  {
   "cell_type": "code",
   "execution_count": 4,
   "metadata": {},
   "outputs": [
    {
     "name": "stdout",
     "output_type": "stream",
     "text": [
      "220-\n",
      " This warning banner provides privacy and security notices consistent with \n",
      " applicable federal laws, directives, and other federal guidance for accessing \n",
      " this Government system, which includes all devices/storage media attached to \n",
      " this system. This system is provided for Government-authorized use only. \n",
      " Unauthorized or improper use of this system is prohibited and may result in \n",
      " disciplinary action and/or civil and criminal penalties. At any time, and for \n",
      " any lawful Government purpose, the government may monitor, record, and audit \n",
      " your system usage and/or intercept, search and seize any communication or data \n",
      " transiting or stored on this system. Therefore, you have no reasonable \n",
      " expectation of privacy. Any communication or data transiting or stored on this \n",
      " system may be disclosed or used for any lawful Government purpose.\n",
      "220 FTP Server ready.\n",
      "230 Anonymous access granted, restrictions apply\n",
      "250 CWD command successful\n"
     ]
    }
   ],
   "source": [
    "try:\n",
    "    with ftplib.FTP() as ftp:\n",
    "        print(ftp.connect(parsed_url.netloc))\n",
    "        print(ftp.login())\n",
    "        print(ftp.cwd(os.path.join(parsed_url.path, COMPOUND_FOLDER)))\n",
    "        dir_list = ftp.nlst()\n",
    "        dir_list_sizes = list(ftp.mlsd(facts = [\"type\", \"size\"]))\n",
    "except Exception as e:\n",
    "    print(e)"
   ]
  },
  {
   "cell_type": "code",
   "execution_count": 5,
   "metadata": {},
   "outputs": [
    {
     "data": {
      "text/plain": [
       "['Compound_000000001_000025000.sdf.gz',\n",
       " 'Compound_000025001_000050000.sdf.gz',\n",
       " 'Compound_000050001_000075000.sdf.gz',\n",
       " 'Compound_000075001_000100000.sdf.gz',\n",
       " 'Compound_000100001_000125000.sdf.gz',\n",
       " 'Compound_000125001_000150000.sdf.gz',\n",
       " 'Compound_000150001_000175000.sdf.gz',\n",
       " 'Compound_000175001_000200000.sdf.gz',\n",
       " 'Compound_000200001_000225000.sdf.gz',\n",
       " 'Compound_000225001_000250000.sdf.gz']"
      ]
     },
     "execution_count": 5,
     "metadata": {},
     "output_type": "execute_result"
    }
   ],
   "source": [
    "sorted(dir_list)[:10]"
   ]
  },
  {
   "cell_type": "code",
   "execution_count": 6,
   "metadata": {},
   "outputs": [
    {
     "data": {
      "text/plain": [
       "[('.', {'size': '430080', 'type': 'cdir'}),\n",
       " ('..', {'size': '4096', 'type': 'pdir'}),\n",
       " ('Compound_000025001_000050000.sdf.gz', {'size': '14923416', 'type': 'file'}),\n",
       " ('Compound_000000001_000025000.sdf.gz', {'size': '15603741', 'type': 'file'}),\n",
       " ('Compound_000050001_000075000.sdf.gz', {'size': '16000340', 'type': 'file'}),\n",
       " ('Compound_000075001_000100000.sdf.gz', {'size': '15272699', 'type': 'file'}),\n",
       " ('Compound_000100001_000125000.sdf.gz', {'size': '18039313', 'type': 'file'}),\n",
       " ('Compound_000125001_000150000.sdf.gz', {'size': '16504873', 'type': 'file'}),\n",
       " ('Compound_000150001_000175000.sdf.gz', {'size': '19788479', 'type': 'file'}),\n",
       " ('Compound_000200001_000225000.sdf.gz', {'size': '15571582', 'type': 'file'})]"
      ]
     },
     "execution_count": 6,
     "metadata": {},
     "output_type": "execute_result"
    }
   ],
   "source": [
    "dir_list_sizes[:10]"
   ]
  },
  {
   "cell_type": "markdown",
   "metadata": {},
   "source": [
    "## Download and process batch"
   ]
  },
  {
   "cell_type": "code",
   "execution_count": 7,
   "metadata": {},
   "outputs": [],
   "source": [
    "def get_batch(batch_filename):\n",
    "\n",
    "    # We copy the folder structure of the server\n",
    "    os.makedirs(COMPOUND_FOLDER, exist_ok=True)\n",
    "    batch_path = os.path.join(COMPOUND_FOLDER, batch_filename)\n",
    "\n",
    "    # Download the files\n",
    "    if not os.path.exists(batch_path):\n",
    "        try:\n",
    "            with ftplib.FTP() as ftp, open(batch_path, 'wb') as f:\n",
    "                print(ftp.connect(parsed_url.netloc))\n",
    "                print(ftp.login())\n",
    "                print(ftp.cwd(parsed_url.path))\n",
    "                print(ftp.retrbinary('RETR ' + batch_path, f.write))\n",
    "                print('Downloaded file %s (%d MB)' % (batch_path, os.path.getsize(batch_path)//1024//1024))\n",
    "        except ftplib.all_errors as e:\n",
    "            print('There was an error with FTP connection')\n",
    "            print(e)\n",
    "            \n",
    "    return batch_path"
   ]
  },
  {
   "cell_type": "code",
   "execution_count": 8,
   "metadata": {},
   "outputs": [],
   "source": [
    "# OpenBabel is faster and parses all the compounds whereas rdkit is slower and sometimes returns None when he can't parse the mol\n",
    "\n",
    "def read_batch(batch_path):\n",
    "    compounds = []\n",
    "    progress_bar = tqdm_notebook(total=25000, leave=False)\n",
    "    for i,mol in enumerate(pybel.readfile('sdf', batch_path)):\n",
    "        if i and i % 100 == 0:\n",
    "            progress_bar.update(100)\n",
    "        props = mol.data\n",
    "        compound_obj = OrderedDict({'c_id':props['PUBCHEM_COMPOUND_CID']})\n",
    "        compound_obj.update({'inchi':props['PUBCHEM_IUPAC_INCHI'], 'inchi_key':props['PUBCHEM_IUPAC_INCHIKEY']})\n",
    "        compound_obj.update({'can_smiles':props['PUBCHEM_OPENEYE_CAN_SMILES']})\n",
    "        if 'PUBCHEM_IUPAC_NAME' in props:\n",
    "            compound_obj.update({'iupac_name' : props['PUBCHEM_IUPAC_NAME']})\n",
    "        compounds.append(compound_obj)\n",
    "    \n",
    "    progress_bar.update(progress_bar.total)\n",
    "    progress_bar.close()    \n",
    "    return compounds"
   ]
  },
  {
   "cell_type": "markdown",
   "metadata": {},
   "source": [
    "## Run"
   ]
  },
  {
   "cell_type": "code",
   "execution_count": 9,
   "metadata": {},
   "outputs": [],
   "source": [
    "# Only work with a subset of compounds, in production we will work with all of them\n",
    "batch_subset = sorted(dir_list)[:1]"
   ]
  },
  {
   "cell_type": "code",
   "execution_count": 10,
   "metadata": {},
   "outputs": [
    {
     "data": {
      "application/vnd.jupyter.widget-view+json": {
       "model_id": "c78b0a9761b74a73bea5567e06b4810f",
       "version_major": 2,
       "version_minor": 0
      },
      "text/plain": [
       "HBox(children=(IntProgress(value=0, max=1), HTML(value='')))"
      ]
     },
     "metadata": {},
     "output_type": "display_data"
    },
    {
     "data": {
      "application/vnd.jupyter.widget-view+json": {
       "model_id": "",
       "version_major": 2,
       "version_minor": 0
      },
      "text/plain": [
       "HBox(children=(IntProgress(value=0, max=25000), HTML(value='')))"
      ]
     },
     "metadata": {},
     "output_type": "display_data"
    },
    {
     "name": "stdout",
     "output_type": "stream",
     "text": [
      "\n"
     ]
    }
   ],
   "source": [
    "all_compounds = []\n",
    "for batch_filename in tqdm_notebook(batch_subset):\n",
    "    batch_path = get_batch(batch_filename)\n",
    "    compounds = read_batch(batch_path)\n",
    "    all_compounds.extend(compounds)"
   ]
  },
  {
   "cell_type": "code",
   "execution_count": 11,
   "metadata": {},
   "outputs": [
    {
     "data": {
      "text/html": [
       "<div>\n",
       "<style scoped>\n",
       "    .dataframe tbody tr th:only-of-type {\n",
       "        vertical-align: middle;\n",
       "    }\n",
       "\n",
       "    .dataframe tbody tr th {\n",
       "        vertical-align: top;\n",
       "    }\n",
       "\n",
       "    .dataframe thead th {\n",
       "        text-align: right;\n",
       "    }\n",
       "</style>\n",
       "<table border=\"1\" class=\"dataframe\">\n",
       "  <thead>\n",
       "    <tr style=\"text-align: right;\">\n",
       "      <th></th>\n",
       "      <th>inchi</th>\n",
       "      <th>inchi_key</th>\n",
       "      <th>can_smiles</th>\n",
       "      <th>iupac_name</th>\n",
       "    </tr>\n",
       "    <tr>\n",
       "      <th>c_id</th>\n",
       "      <th></th>\n",
       "      <th></th>\n",
       "      <th></th>\n",
       "      <th></th>\n",
       "    </tr>\n",
       "  </thead>\n",
       "  <tbody>\n",
       "    <tr>\n",
       "      <th>1</th>\n",
       "      <td>InChI=1S/C9H17NO4/c1-7(11)14-8(5-9(12)13)6-10(...</td>\n",
       "      <td>RDHQFKQIGNGIED-UHFFFAOYSA-N</td>\n",
       "      <td>CC(=O)OC(CC(=O)[O-])C[N+](C)(C)C</td>\n",
       "      <td>3-acetyloxy-4-(trimethylazaniumyl)butanoate</td>\n",
       "    </tr>\n",
       "    <tr>\n",
       "      <th>2</th>\n",
       "      <td>InChI=1S/C9H17NO4/c1-7(11)14-8(5-9(12)13)6-10(...</td>\n",
       "      <td>RDHQFKQIGNGIED-UHFFFAOYSA-O</td>\n",
       "      <td>CC(=O)OC(CC(=O)O)C[N+](C)(C)C</td>\n",
       "      <td>(2-acetyloxy-3-carboxypropyl)-trimethylazanium</td>\n",
       "    </tr>\n",
       "    <tr>\n",
       "      <th>3</th>\n",
       "      <td>InChI=1S/C7H8O4/c8-5-3-1-2-4(6(5)9)7(10)11/h1-...</td>\n",
       "      <td>INCSWYKICIYAHB-UHFFFAOYSA-N</td>\n",
       "      <td>C1=CC(C(C(=C1)C(=O)O)O)O</td>\n",
       "      <td>5,6-dihydroxycyclohexa-1,3-diene-1-carboxylic ...</td>\n",
       "    </tr>\n",
       "    <tr>\n",
       "      <th>4</th>\n",
       "      <td>InChI=1S/C3H9NO/c1-3(5)2-4/h3,5H,2,4H2,1H3</td>\n",
       "      <td>HXKKHQJGJAFBHI-UHFFFAOYSA-N</td>\n",
       "      <td>CC(CN)O</td>\n",
       "      <td>1-aminopropan-2-ol</td>\n",
       "    </tr>\n",
       "    <tr>\n",
       "      <th>5</th>\n",
       "      <td>InChI=1S/C3H8NO5P/c4-1-3(5)2-9-10(6,7)8/h1-2,4...</td>\n",
       "      <td>HIQNVODXENYOFK-UHFFFAOYSA-N</td>\n",
       "      <td>C(C(=O)COP(=O)(O)O)N</td>\n",
       "      <td>(3-amino-2-oxopropyl) dihydrogen phosphate</td>\n",
       "    </tr>\n",
       "    <tr>\n",
       "      <th>6</th>\n",
       "      <td>InChI=1S/C6H3ClN2O4/c7-5-2-1-4(8(10)11)3-6(5)9...</td>\n",
       "      <td>VYZAHLCBVHPDDF-UHFFFAOYSA-N</td>\n",
       "      <td>C1=CC(=C(C=C1[N+](=O)[O-])[N+](=O)[O-])Cl</td>\n",
       "      <td>1-chloro-2,4-dinitrobenzene</td>\n",
       "    </tr>\n",
       "    <tr>\n",
       "      <th>7</th>\n",
       "      <td>InChI=1S/C7H9N5/c1-2-12-4-11-5-6(8)9-3-10-7(5)...</td>\n",
       "      <td>MUIPLRMGAXZWSQ-UHFFFAOYSA-N</td>\n",
       "      <td>CCN1C=NC2=C1N=CN=C2N</td>\n",
       "      <td>9-ethylpurin-6-amine</td>\n",
       "    </tr>\n",
       "    <tr>\n",
       "      <th>8</th>\n",
       "      <td>InChI=1S/C6H12O4/c1-3-6(2,10)4(7)5(8)9/h4,7,10...</td>\n",
       "      <td>PDGXJDXVGMHUIR-UHFFFAOYSA-N</td>\n",
       "      <td>CCC(C)(C(C(=O)O)O)O</td>\n",
       "      <td>2,3-dihydroxy-3-methylpentanoic acid</td>\n",
       "    </tr>\n",
       "    <tr>\n",
       "      <th>9</th>\n",
       "      <td>InChI=1S/C6H13O9P/c7-1-2(8)4(10)6(5(11)3(1)9)1...</td>\n",
       "      <td>INAPMGSXUVUWAF-UHFFFAOYSA-N</td>\n",
       "      <td>C1(C(C(C(C(C1O)O)OP(=O)(O)O)O)O)O</td>\n",
       "      <td>(2,3,4,5,6-pentahydroxycyclohexyl) dihydrogen ...</td>\n",
       "    </tr>\n",
       "    <tr>\n",
       "      <th>11</th>\n",
       "      <td>InChI=1S/C2H4Cl2/c3-1-2-4/h1-2H2</td>\n",
       "      <td>WSLDOOZREJYCGB-UHFFFAOYSA-N</td>\n",
       "      <td>C(CCl)Cl</td>\n",
       "      <td>1,2-dichloroethane</td>\n",
       "    </tr>\n",
       "  </tbody>\n",
       "</table>\n",
       "</div>"
      ],
      "text/plain": [
       "                                                  inchi  \\\n",
       "c_id                                                      \n",
       "1     InChI=1S/C9H17NO4/c1-7(11)14-8(5-9(12)13)6-10(...   \n",
       "2     InChI=1S/C9H17NO4/c1-7(11)14-8(5-9(12)13)6-10(...   \n",
       "3     InChI=1S/C7H8O4/c8-5-3-1-2-4(6(5)9)7(10)11/h1-...   \n",
       "4            InChI=1S/C3H9NO/c1-3(5)2-4/h3,5H,2,4H2,1H3   \n",
       "5     InChI=1S/C3H8NO5P/c4-1-3(5)2-9-10(6,7)8/h1-2,4...   \n",
       "6     InChI=1S/C6H3ClN2O4/c7-5-2-1-4(8(10)11)3-6(5)9...   \n",
       "7     InChI=1S/C7H9N5/c1-2-12-4-11-5-6(8)9-3-10-7(5)...   \n",
       "8     InChI=1S/C6H12O4/c1-3-6(2,10)4(7)5(8)9/h4,7,10...   \n",
       "9     InChI=1S/C6H13O9P/c7-1-2(8)4(10)6(5(11)3(1)9)1...   \n",
       "11                     InChI=1S/C2H4Cl2/c3-1-2-4/h1-2H2   \n",
       "\n",
       "                        inchi_key                                 can_smiles  \\\n",
       "c_id                                                                           \n",
       "1     RDHQFKQIGNGIED-UHFFFAOYSA-N           CC(=O)OC(CC(=O)[O-])C[N+](C)(C)C   \n",
       "2     RDHQFKQIGNGIED-UHFFFAOYSA-O              CC(=O)OC(CC(=O)O)C[N+](C)(C)C   \n",
       "3     INCSWYKICIYAHB-UHFFFAOYSA-N                   C1=CC(C(C(=C1)C(=O)O)O)O   \n",
       "4     HXKKHQJGJAFBHI-UHFFFAOYSA-N                                    CC(CN)O   \n",
       "5     HIQNVODXENYOFK-UHFFFAOYSA-N                       C(C(=O)COP(=O)(O)O)N   \n",
       "6     VYZAHLCBVHPDDF-UHFFFAOYSA-N  C1=CC(=C(C=C1[N+](=O)[O-])[N+](=O)[O-])Cl   \n",
       "7     MUIPLRMGAXZWSQ-UHFFFAOYSA-N                       CCN1C=NC2=C1N=CN=C2N   \n",
       "8     PDGXJDXVGMHUIR-UHFFFAOYSA-N                        CCC(C)(C(C(=O)O)O)O   \n",
       "9     INAPMGSXUVUWAF-UHFFFAOYSA-N          C1(C(C(C(C(C1O)O)OP(=O)(O)O)O)O)O   \n",
       "11    WSLDOOZREJYCGB-UHFFFAOYSA-N                                   C(CCl)Cl   \n",
       "\n",
       "                                             iupac_name  \n",
       "c_id                                                     \n",
       "1           3-acetyloxy-4-(trimethylazaniumyl)butanoate  \n",
       "2        (2-acetyloxy-3-carboxypropyl)-trimethylazanium  \n",
       "3     5,6-dihydroxycyclohexa-1,3-diene-1-carboxylic ...  \n",
       "4                                    1-aminopropan-2-ol  \n",
       "5            (3-amino-2-oxopropyl) dihydrogen phosphate  \n",
       "6                           1-chloro-2,4-dinitrobenzene  \n",
       "7                                  9-ethylpurin-6-amine  \n",
       "8                  2,3-dihydroxy-3-methylpentanoic acid  \n",
       "9     (2,3,4,5,6-pentahydroxycyclohexyl) dihydrogen ...  \n",
       "11                                   1,2-dichloroethane  "
      ]
     },
     "execution_count": 11,
     "metadata": {},
     "output_type": "execute_result"
    }
   ],
   "source": [
    "df = pd.DataFrame(all_compounds)\n",
    "df.set_index('c_id', inplace=True)\n",
    "df.head(10)"
   ]
  },
  {
   "cell_type": "markdown",
   "metadata": {},
   "source": [
    "## Persist to DB"
   ]
  },
  {
   "cell_type": "code",
   "execution_count": 12,
   "metadata": {},
   "outputs": [],
   "source": [
    "with open('sql_config.json') as f:\n",
    "    sql_config = json.load(f)\n",
    "sql_connection_url = 'postgresql://{user}:{password}@{host}/{dbname}'.format(**sql_config)"
   ]
  },
  {
   "cell_type": "code",
   "execution_count": 13,
   "metadata": {},
   "outputs": [],
   "source": [
    "engine = sqlalchemy.create_engine(sql_connection_url)"
   ]
  },
  {
   "cell_type": "code",
   "execution_count": 14,
   "metadata": {},
   "outputs": [
    {
     "data": {
      "text/plain": [
       "<sqlalchemy.engine.result.ResultProxy at 0x7fa3df9eba90>"
      ]
     },
     "execution_count": 14,
     "metadata": {},
     "output_type": "execute_result"
    }
   ],
   "source": [
    "engine.execute('CREATE SCHEMA IF NOT EXISTS %s;' % sql_config['schema'])"
   ]
  },
  {
   "cell_type": "code",
   "execution_count": 15,
   "metadata": {},
   "outputs": [],
   "source": [
    "# Let pandas and sqlalchemy do the create table and insert queries\n",
    "df.to_sql(name='compounds', con=engine, schema=sql_config['schema'], if_exists='replace')"
   ]
  },
  {
   "cell_type": "code",
   "execution_count": 16,
   "metadata": {},
   "outputs": [
    {
     "data": {
      "text/plain": [
       "<sqlalchemy.engine.result.ResultProxy at 0x7fa3df9ebf60>"
      ]
     },
     "execution_count": 16,
     "metadata": {},
     "output_type": "execute_result"
    }
   ],
   "source": [
    "engine.execute('ALTER TABLE %s.compounds ADD PRIMARY KEY (c_id)' % sql_config['schema'])"
   ]
  },
  {
   "cell_type": "code",
   "execution_count": 17,
   "metadata": {},
   "outputs": [
    {
     "data": {
      "text/html": [
       "<div>\n",
       "<style scoped>\n",
       "    .dataframe tbody tr th:only-of-type {\n",
       "        vertical-align: middle;\n",
       "    }\n",
       "\n",
       "    .dataframe tbody tr th {\n",
       "        vertical-align: top;\n",
       "    }\n",
       "\n",
       "    .dataframe thead th {\n",
       "        text-align: right;\n",
       "    }\n",
       "</style>\n",
       "<table border=\"1\" class=\"dataframe\">\n",
       "  <thead>\n",
       "    <tr style=\"text-align: right;\">\n",
       "      <th></th>\n",
       "      <th>c_id</th>\n",
       "      <th>inchi</th>\n",
       "      <th>inchi_key</th>\n",
       "      <th>can_smiles</th>\n",
       "      <th>iupac_name</th>\n",
       "    </tr>\n",
       "  </thead>\n",
       "  <tbody>\n",
       "    <tr>\n",
       "      <th>0</th>\n",
       "      <td>1</td>\n",
       "      <td>InChI=1S/C9H17NO4/c1-7(11)14-8(5-9(12)13)6-10(...</td>\n",
       "      <td>RDHQFKQIGNGIED-UHFFFAOYSA-N</td>\n",
       "      <td>CC(=O)OC(CC(=O)[O-])C[N+](C)(C)C</td>\n",
       "      <td>3-acetyloxy-4-(trimethylazaniumyl)butanoate</td>\n",
       "    </tr>\n",
       "    <tr>\n",
       "      <th>1</th>\n",
       "      <td>2</td>\n",
       "      <td>InChI=1S/C9H17NO4/c1-7(11)14-8(5-9(12)13)6-10(...</td>\n",
       "      <td>RDHQFKQIGNGIED-UHFFFAOYSA-O</td>\n",
       "      <td>CC(=O)OC(CC(=O)O)C[N+](C)(C)C</td>\n",
       "      <td>(2-acetyloxy-3-carboxypropyl)-trimethylazanium</td>\n",
       "    </tr>\n",
       "    <tr>\n",
       "      <th>2</th>\n",
       "      <td>3</td>\n",
       "      <td>InChI=1S/C7H8O4/c8-5-3-1-2-4(6(5)9)7(10)11/h1-...</td>\n",
       "      <td>INCSWYKICIYAHB-UHFFFAOYSA-N</td>\n",
       "      <td>C1=CC(C(C(=C1)C(=O)O)O)O</td>\n",
       "      <td>5,6-dihydroxycyclohexa-1,3-diene-1-carboxylic ...</td>\n",
       "    </tr>\n",
       "    <tr>\n",
       "      <th>3</th>\n",
       "      <td>4</td>\n",
       "      <td>InChI=1S/C3H9NO/c1-3(5)2-4/h3,5H,2,4H2,1H3</td>\n",
       "      <td>HXKKHQJGJAFBHI-UHFFFAOYSA-N</td>\n",
       "      <td>CC(CN)O</td>\n",
       "      <td>1-aminopropan-2-ol</td>\n",
       "    </tr>\n",
       "    <tr>\n",
       "      <th>4</th>\n",
       "      <td>5</td>\n",
       "      <td>InChI=1S/C3H8NO5P/c4-1-3(5)2-9-10(6,7)8/h1-2,4...</td>\n",
       "      <td>HIQNVODXENYOFK-UHFFFAOYSA-N</td>\n",
       "      <td>C(C(=O)COP(=O)(O)O)N</td>\n",
       "      <td>(3-amino-2-oxopropyl) dihydrogen phosphate</td>\n",
       "    </tr>\n",
       "    <tr>\n",
       "      <th>5</th>\n",
       "      <td>6</td>\n",
       "      <td>InChI=1S/C6H3ClN2O4/c7-5-2-1-4(8(10)11)3-6(5)9...</td>\n",
       "      <td>VYZAHLCBVHPDDF-UHFFFAOYSA-N</td>\n",
       "      <td>C1=CC(=C(C=C1[N+](=O)[O-])[N+](=O)[O-])Cl</td>\n",
       "      <td>1-chloro-2,4-dinitrobenzene</td>\n",
       "    </tr>\n",
       "    <tr>\n",
       "      <th>6</th>\n",
       "      <td>7</td>\n",
       "      <td>InChI=1S/C7H9N5/c1-2-12-4-11-5-6(8)9-3-10-7(5)...</td>\n",
       "      <td>MUIPLRMGAXZWSQ-UHFFFAOYSA-N</td>\n",
       "      <td>CCN1C=NC2=C1N=CN=C2N</td>\n",
       "      <td>9-ethylpurin-6-amine</td>\n",
       "    </tr>\n",
       "    <tr>\n",
       "      <th>7</th>\n",
       "      <td>8</td>\n",
       "      <td>InChI=1S/C6H12O4/c1-3-6(2,10)4(7)5(8)9/h4,7,10...</td>\n",
       "      <td>PDGXJDXVGMHUIR-UHFFFAOYSA-N</td>\n",
       "      <td>CCC(C)(C(C(=O)O)O)O</td>\n",
       "      <td>2,3-dihydroxy-3-methylpentanoic acid</td>\n",
       "    </tr>\n",
       "    <tr>\n",
       "      <th>8</th>\n",
       "      <td>9</td>\n",
       "      <td>InChI=1S/C6H13O9P/c7-1-2(8)4(10)6(5(11)3(1)9)1...</td>\n",
       "      <td>INAPMGSXUVUWAF-UHFFFAOYSA-N</td>\n",
       "      <td>C1(C(C(C(C(C1O)O)OP(=O)(O)O)O)O)O</td>\n",
       "      <td>(2,3,4,5,6-pentahydroxycyclohexyl) dihydrogen ...</td>\n",
       "    </tr>\n",
       "    <tr>\n",
       "      <th>9</th>\n",
       "      <td>11</td>\n",
       "      <td>InChI=1S/C2H4Cl2/c3-1-2-4/h1-2H2</td>\n",
       "      <td>WSLDOOZREJYCGB-UHFFFAOYSA-N</td>\n",
       "      <td>C(CCl)Cl</td>\n",
       "      <td>1,2-dichloroethane</td>\n",
       "    </tr>\n",
       "  </tbody>\n",
       "</table>\n",
       "</div>"
      ],
      "text/plain": [
       "  c_id                                              inchi  \\\n",
       "0    1  InChI=1S/C9H17NO4/c1-7(11)14-8(5-9(12)13)6-10(...   \n",
       "1    2  InChI=1S/C9H17NO4/c1-7(11)14-8(5-9(12)13)6-10(...   \n",
       "2    3  InChI=1S/C7H8O4/c8-5-3-1-2-4(6(5)9)7(10)11/h1-...   \n",
       "3    4         InChI=1S/C3H9NO/c1-3(5)2-4/h3,5H,2,4H2,1H3   \n",
       "4    5  InChI=1S/C3H8NO5P/c4-1-3(5)2-9-10(6,7)8/h1-2,4...   \n",
       "5    6  InChI=1S/C6H3ClN2O4/c7-5-2-1-4(8(10)11)3-6(5)9...   \n",
       "6    7  InChI=1S/C7H9N5/c1-2-12-4-11-5-6(8)9-3-10-7(5)...   \n",
       "7    8  InChI=1S/C6H12O4/c1-3-6(2,10)4(7)5(8)9/h4,7,10...   \n",
       "8    9  InChI=1S/C6H13O9P/c7-1-2(8)4(10)6(5(11)3(1)9)1...   \n",
       "9   11                   InChI=1S/C2H4Cl2/c3-1-2-4/h1-2H2   \n",
       "\n",
       "                     inchi_key                                 can_smiles  \\\n",
       "0  RDHQFKQIGNGIED-UHFFFAOYSA-N           CC(=O)OC(CC(=O)[O-])C[N+](C)(C)C   \n",
       "1  RDHQFKQIGNGIED-UHFFFAOYSA-O              CC(=O)OC(CC(=O)O)C[N+](C)(C)C   \n",
       "2  INCSWYKICIYAHB-UHFFFAOYSA-N                   C1=CC(C(C(=C1)C(=O)O)O)O   \n",
       "3  HXKKHQJGJAFBHI-UHFFFAOYSA-N                                    CC(CN)O   \n",
       "4  HIQNVODXENYOFK-UHFFFAOYSA-N                       C(C(=O)COP(=O)(O)O)N   \n",
       "5  VYZAHLCBVHPDDF-UHFFFAOYSA-N  C1=CC(=C(C=C1[N+](=O)[O-])[N+](=O)[O-])Cl   \n",
       "6  MUIPLRMGAXZWSQ-UHFFFAOYSA-N                       CCN1C=NC2=C1N=CN=C2N   \n",
       "7  PDGXJDXVGMHUIR-UHFFFAOYSA-N                        CCC(C)(C(C(=O)O)O)O   \n",
       "8  INAPMGSXUVUWAF-UHFFFAOYSA-N          C1(C(C(C(C(C1O)O)OP(=O)(O)O)O)O)O   \n",
       "9  WSLDOOZREJYCGB-UHFFFAOYSA-N                                   C(CCl)Cl   \n",
       "\n",
       "                                          iupac_name  \n",
       "0        3-acetyloxy-4-(trimethylazaniumyl)butanoate  \n",
       "1     (2-acetyloxy-3-carboxypropyl)-trimethylazanium  \n",
       "2  5,6-dihydroxycyclohexa-1,3-diene-1-carboxylic ...  \n",
       "3                                 1-aminopropan-2-ol  \n",
       "4         (3-amino-2-oxopropyl) dihydrogen phosphate  \n",
       "5                        1-chloro-2,4-dinitrobenzene  \n",
       "6                               9-ethylpurin-6-amine  \n",
       "7               2,3-dihydroxy-3-methylpentanoic acid  \n",
       "8  (2,3,4,5,6-pentahydroxycyclohexyl) dihydrogen ...  \n",
       "9                                 1,2-dichloroethane  "
      ]
     },
     "execution_count": 17,
     "metadata": {},
     "output_type": "execute_result"
    }
   ],
   "source": [
    "# Verify it's actually there\n",
    "pd.read_sql('SELECT * FROM bioassay.compounds LIMIT 10', engine)"
   ]
  },
  {
   "cell_type": "code",
   "execution_count": null,
   "metadata": {},
   "outputs": [],
   "source": []
  }
 ],
 "metadata": {
  "kernelspec": {
   "display_name": "Python 3",
   "language": "python",
   "name": "python3"
  },
  "language_info": {
   "codemirror_mode": {
    "name": "ipython",
    "version": 3
   },
   "file_extension": ".py",
   "mimetype": "text/x-python",
   "name": "python",
   "nbconvert_exporter": "python",
   "pygments_lexer": "ipython3",
   "version": "3.7.0"
  }
 },
 "nbformat": 4,
 "nbformat_minor": 2
}
