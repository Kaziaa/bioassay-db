{
 "cells": [
  {
   "cell_type": "code",
   "execution_count": 1,
   "metadata": {},
   "outputs": [],
   "source": [
    "from collections import Counter\n",
    "import os\n",
    "import shutil\n",
    "from urllib.parse import urlparse, urljoin\n",
    "import ftplib\n",
    "from zipfile import ZipFile\n",
    "import gzip\n",
    "import xml.etree.ElementTree as XML_ET\n",
    "import csv\n",
    "import matplotlib.pyplot as plt\n",
    "\n",
    "from tqdm import tqdm_notebook\n",
    "%matplotlib inline"
   ]
  },
  {
   "cell_type": "markdown",
   "metadata": {},
   "source": [
    "## Get list of .zip batch files to download"
   ]
  },
  {
   "cell_type": "code",
   "execution_count": 2,
   "metadata": {},
   "outputs": [],
   "source": [
    "BASE_URL = 'ftp://ftp.ncbi.nlm.nih.gov/pubchem/'\n",
    "BIOASSAY_DATA_FOLDER = 'Bioassay/CSV/Data'  # this folder contains .CSV files with measured compounds\n",
    "BIOASSAY_DESC_FOLDER = 'Bioassay/CSV/Description'  # this folder contains info about assay e.g. the target"
   ]
  },
  {
   "cell_type": "code",
   "execution_count": 3,
   "metadata": {},
   "outputs": [],
   "source": [
    "parsed_url = urlparse(BASE_URL)"
   ]
  },
  {
   "cell_type": "code",
   "execution_count": 4,
   "metadata": {},
   "outputs": [
    {
     "name": "stdout",
     "output_type": "stream",
     "text": [
      "220-\n",
      " This warning banner provides privacy and security notices consistent with \n",
      " applicable federal laws, directives, and other federal guidance for accessing \n",
      " this Government system, which includes all devices/storage media attached to \n",
      " this system. This system is provided for Government-authorized use only. \n",
      " Unauthorized or improper use of this system is prohibited and may result in \n",
      " disciplinary action and/or civil and criminal penalties. At any time, and for \n",
      " any lawful Government purpose, the government may monitor, record, and audit \n",
      " your system usage and/or intercept, search and seize any communication or data \n",
      " transiting or stored on this system. Therefore, you have no reasonable \n",
      " expectation of privacy. Any communication or data transiting or stored on this \n",
      " system may be disclosed or used for any lawful Government purpose.\n",
      "220 FTP Server ready.\n",
      "230 Anonymous access granted, restrictions apply\n",
      "250 CWD command successful\n"
     ]
    }
   ],
   "source": [
    "try:\n",
    "    with ftplib.FTP() as ftp:\n",
    "        print(ftp.connect(parsed_url.netloc))\n",
    "        print(ftp.login())\n",
    "        print(ftp.cwd(os.path.join(parsed_url.path, BIOASSAY_DATA_FOLDER)))\n",
    "        dir_list = ftp.nlst()\n",
    "        dir_list_sizes = [x for x in ftp.mlsd(facts = [\"type\", \"size\"])]\n",
    "except Exception as e:\n",
    "    print(e)"
   ]
  },
  {
   "cell_type": "code",
   "execution_count": 5,
   "metadata": {},
   "outputs": [
    {
     "data": {
      "text/plain": [
       "['0000001_0001000.zip',\n",
       " '0001001_0002000.zip',\n",
       " '0002001_0003000.zip',\n",
       " '0003001_0004000.zip',\n",
       " '0092001_0093000.zip',\n",
       " '0005001_0006000.zip',\n",
       " '0013001_0014000.zip',\n",
       " '0007001_0008000.zip',\n",
       " '0008001_0009000.zip',\n",
       " '0009001_0010000.zip']"
      ]
     },
     "execution_count": 5,
     "metadata": {},
     "output_type": "execute_result"
    }
   ],
   "source": [
    "dir_list[:10]"
   ]
  },
  {
   "cell_type": "code",
   "execution_count": 6,
   "metadata": {},
   "outputs": [
    {
     "data": {
      "text/plain": [
       "[('.', {'size': '69632', 'type': 'cdir'}),\n",
       " ('..', {'size': '4096', 'type': 'pdir'}),\n",
       " ('0000001_0001000.zip', {'size': '425423906', 'type': 'file'}),\n",
       " ('0001001_0002000.zip', {'size': '791478416', 'type': 'file'}),\n",
       " ('0002001_0003000.zip', {'size': '586939677', 'type': 'file'}),\n",
       " ('0003001_0004000.zip', {'size': '658847', 'type': 'file'}),\n",
       " ('0092001_0093000.zip', {'size': '684343', 'type': 'file'}),\n",
       " ('0005001_0006000.zip', {'size': '694767', 'type': 'file'}),\n",
       " ('0013001_0014000.zip', {'size': '557700', 'type': 'file'}),\n",
       " ('0007001_0008000.zip', {'size': '600294', 'type': 'file'})]"
      ]
     },
     "execution_count": 6,
     "metadata": {},
     "output_type": "execute_result"
    }
   ],
   "source": [
    "dir_list_sizes[:10]"
   ]
  },
  {
   "cell_type": "markdown",
   "metadata": {},
   "source": [
    "## Download a single batch\n",
    "\n",
    "Download and extract"
   ]
  },
  {
   "cell_type": "code",
   "execution_count": 7,
   "metadata": {},
   "outputs": [],
   "source": [
    "def get_batch(batch_file_name):\n",
    "    '''\n",
    "    This downloads a .zip file with description and data and extracts it\n",
    "    returns dict with info about the batch, such as paths to files etc.\n",
    "    '''\n",
    "    batch_name, batch_extension = os.path.splitext(batch_file_name)\n",
    "    assert batch_extension == '.zip'\n",
    "    \n",
    "    \n",
    "    # we copy the folder structure of the server\n",
    "    os.makedirs(BIOASSAY_DATA_FOLDER, exist_ok=True)\n",
    "    os.makedirs(BIOASSAY_DESC_FOLDER, exist_ok=True)\n",
    "    batch_data_path = os.path.join(BIOASSAY_DATA_FOLDER, batch_file_name)\n",
    "    batch_desc_path = os.path.join(BIOASSAY_DESC_FOLDER, batch_file_name)\n",
    "    \n",
    "    \n",
    "    # Download the files\n",
    "    if not os.path.exists(batch_data_path) or not os.path.exists(batch_desc_path):\n",
    "        try:\n",
    "            with ftplib.FTP() as ftp, open(batch_data_path, 'wb') as f_data, open(batch_desc_path, 'wb') as f_description:\n",
    "                print(ftp.connect(parsed_url.netloc))\n",
    "                print(ftp.login())\n",
    "                print(ftp.cwd(parsed_url.path))\n",
    "                print(ftp.retrbinary('RETR ' + batch_data_path, f_data.write))\n",
    "                print('Downloaded data file %s (%d MB)' % (batch_data_path, os.path.getsize(batch_data_path)//1024//1024))\n",
    "                print(ftp.retrbinary('RETR ' + batch_desc_path, f_description.write))\n",
    "                print('Downloaded desc file %s (%d MB)' % (batch_desc_path, os.path.getsize(batch_desc_path)//1024//1024))\n",
    "        except ftplib.all_errors as e:\n",
    "            print('There was and error with FTP connection')\n",
    "            print(e)\n",
    "        \n",
    "    \n",
    "    \n",
    "    # Unzip the files\n",
    "    batch_data_folder = os.path.join(BIOASSAY_DATA_FOLDER, batch_name)\n",
    "    batch_desc_folder = os.path.join(BIOASSAY_DESC_FOLDER, batch_name)\n",
    "    \n",
    "    if not os.path.exists(batch_data_folder) or not os.path.exists(batch_desc_folder):\n",
    "        with ZipFile(batch_data_path) as zf:\n",
    "            zf.extractall(BIOASSAY_DATA_FOLDER)\n",
    "\n",
    "        with ZipFile(batch_desc_path) as zf:\n",
    "            zf.extractall(BIOASSAY_DESC_FOLDER)\n",
    "    \n",
    "    \n",
    "        # inside the .zip files should be a directory <batch_name> with (csv/xml).gz files that got extracted\n",
    "        assert os.path.isdir(batch_data_folder)\n",
    "        assert os.path.isdir(batch_desc_folder)\n",
    "\n",
    "    data_gz_filenames = os.listdir(batch_data_folder)\n",
    "    desc_gz_filenames = os.listdir(batch_desc_folder)\n",
    "\n",
    "#     extracted_data_size = sum(os.path.getsize(os.path.join(batch_data_folder,gz_file_name)) for gz_file_name in data_gz_filenames)\n",
    "#     extracted_desc_size = sum(os.path.getsize(os.path.join(batch_desc_folder,gz_file_name)) for gz_file_name in desc_gz_filenames)\n",
    "#     print('Extracted %d data files (%d KB)' % (len(data_gz_filenames), extracted_data_size//1024))\n",
    "#     print('Extracted %d desc files (%d KB)' % (len(desc_gz_filenames), extracted_desc_size//1024))\n",
    "    \n",
    "    return {'batch_name':batch_name, 'batch_data_folder':batch_data_folder, 'batch_desc_folder':batch_desc_folder,'data_gz_filenames':data_gz_filenames, 'desc_gz_filenames':desc_gz_filenames,}\n",
    "    "
   ]
  },
  {
   "cell_type": "code",
   "execution_count": 8,
   "metadata": {},
   "outputs": [],
   "source": [
    "def clean_up_batch(batch_file_name):\n",
    "    '''\n",
    "    This removes the downloaded and extracted files\n",
    "    '''\n",
    "    batch_data_path = os.path.join(BIOASSAY_DATA_FOLDER, batch_file_name)\n",
    "    batch_desc_path = os.path.join(BIOASSAY_DESC_FOLDER, batch_file_name)\n",
    "    batch_name, batch_extension = os.path.splitext(batch_file_name)\n",
    "    batch_data_folder = os.path.join(BIOASSAY_DATA_FOLDER, batch_name)\n",
    "    batch_desc_folder = os.path.join(BIOASSAY_DESC_FOLDER, batch_name)\n",
    "    \n",
    "    # remove the .zip files\n",
    "    if os.path.exists(batch_data_path):\n",
    "        os.remove(batch_data_path)\n",
    "    if os.path.exists(batch_desc_path):\n",
    "        os.remove(batch_desc_path)\n",
    "    \n",
    "    if os.path.exists(batch_data_folder):\n",
    "        shutil.rmtree(batch_data_folder)\n",
    "    if os.path.exists(batch_desc_folder):\n",
    "        shutil.rmtree(batch_desc_folder)"
   ]
  },
  {
   "cell_type": "markdown",
   "metadata": {},
   "source": [
    "## Process assay descriptions\n",
    "\n",
    "Extract information about the target"
   ]
  },
  {
   "cell_type": "code",
   "execution_count": 9,
   "metadata": {},
   "outputs": [],
   "source": [
    "STATUS_MORE_TARGETS = 'more_targets'\n",
    "STATUS_NO_TARGET = 'no_target'\n",
    "STATUS_TARGET_NO_ACCESSION = 'target_no_accession'\n",
    "STATUS_OK = 'ok'\n",
    "\n",
    "def process_assay_description(path_to_description):\n",
    "    '''\n",
    "    This processes the description .xml file to extract information about the target\n",
    "    returns status, assay_obj\n",
    "    status can be one of STATUS_* constants\n",
    "    '''\n",
    "    with gzip.open(path_to_description, 'rt') as f:\n",
    "#         xml_string = f.read()\n",
    "#         f.seek(0)\n",
    "        xml_tree = XML_ET.parse(f)\n",
    "        \n",
    "    namespaces = {'ncbi':'http://www.ncbi.nlm.nih.gov'}\n",
    "\n",
    "    assay_id = xml_tree.find('.//ncbi:PC-ID_id', namespaces=namespaces).text\n",
    "    assay_version = xml_tree.find('.//ncbi:PC-ID_version', namespaces=namespaces).text\n",
    "    assay_obj = {'assay_id':assay_id, 'assay_version':assay_version}\n",
    "\n",
    "    target_info_root_elements = xml_tree.findall('.//ncbi:PC-AssayTargetInfo', namespaces=namespaces)\n",
    "    if len(target_info_root_elements) > 1:\n",
    "#             print('Skipping assay {} for it has more targets'.format(assay_id))\n",
    "#         assays_more_targets.append((assay_id,assay_version))\n",
    "        return STATUS_MORE_TARGETS, assay_obj\n",
    "    if len(target_info_root_elements) < 1:\n",
    "#             print('Skipping assay {} for it has no targets'.format(assay_id))\n",
    "        return STATUS_NO_TARGET, assay_obj\n",
    "\n",
    "    target_info_root_element = target_info_root_elements[0]\n",
    "#         print((target_info_root_elements))\n",
    "\n",
    "    target_id = target_info_root_element.find('ncbi:PC-AssayTargetInfo_mol-id', namespaces=namespaces).text\n",
    "    target_name = target_info_root_element.find('ncbi:PC-AssayTargetInfo_name', namespaces=namespaces).text\n",
    "    target_type = target_info_root_element.find('ncbi:PC-AssayTargetInfo_molecule-type', namespaces=namespaces).attrib['value']\n",
    "    \n",
    "    assay_obj.update({'target_id':target_id, 'target_name':target_name, 'target_type':target_type})\n",
    "    \n",
    "    # comments usually contain one element with text 'Protein Accession: <id>'\n",
    "    target_protein_accession = None\n",
    "    target_info_comment_e = target_info_root_element.find('ncbi:PC-AssayTargetInfo_comment', namespaces=namespaces)\n",
    "    if target_info_comment_e:\n",
    "        for e in target_info_comment_e:\n",
    "            sp = e.text.split(':')\n",
    "            if len(sp) == 2 and sp[0] == 'Protein Accession':\n",
    "                target_protein_accession = sp[1]\n",
    "        assay_obj.update({'target_protein_accession':target_protein_accession})\n",
    "    else:\n",
    "        # this happens when the record has been removed or replaced or some other weird stuff\n",
    "        # we drop this assay\n",
    "        return STATUS_TARGET_NO_ACCESSION, assay_obj\n",
    "    \n",
    "    \n",
    "    # some assays have a gene_id cross reference\n",
    "    protein_gi_elms = target_info_root_element.findall('.//ncbi:PC-XRefData_protein-gi', namespaces=namespaces)\n",
    "    assert len(protein_gi_elms) <= 1\n",
    "    if protein_gi_elms:\n",
    "        target_gi = protein_gi_elms[0].text\n",
    "    else:\n",
    "        target_gi = None\n",
    "    assay_obj.update({'target_gi':target_gi})\n",
    "\n",
    "    # process assay description comments\n",
    "    for comment_e in xml_tree.findall('.//ncbi:PC-AssayDescription_comment_E', namespaces=namespaces):\n",
    "#         print(comment_e.text)\n",
    "        pass\n",
    "\n",
    "    return STATUS_OK, assay_obj"
   ]
  },
  {
   "cell_type": "markdown",
   "metadata": {},
   "source": [
    "## Process assay data"
   ]
  },
  {
   "cell_type": "code",
   "execution_count": 16,
   "metadata": {},
   "outputs": [],
   "source": [
    "def process_assay_data(path_to_description):\n",
    "    '''\n",
    "    this is WIP\n",
    "    this will extract the measurements (Ki, IC50, etc) for the assay\n",
    "    '''\n",
    "    with gzip.open(path_to_description, 'rt') as f:\n",
    "        csv_reader = csv.reader(f)\n",
    "        header = next(csv_reader)\n",
    "#         print(header)\n",
    "        for line in csv_reader:\n",
    "#             print(line)\n",
    "            if line[0] in ('RESULT_TYPE', 'RESULT_DESCR', 'RESULT_UNIT', 'RESULT_IS_ACTIVE_CONCENTRATION'):\n",
    "                continue\n",
    "            if line[0].isdigit():\n",
    "                continue\n",
    "#         print('---')"
   ]
  },
  {
   "cell_type": "markdown",
   "metadata": {},
   "source": [
    "## Go"
   ]
  },
  {
   "cell_type": "code",
   "execution_count": 11,
   "metadata": {},
   "outputs": [],
   "source": [
    "batch_sample = dir_list[:20]"
   ]
  },
  {
   "cell_type": "code",
   "execution_count": 12,
   "metadata": {},
   "outputs": [
    {
     "data": {
      "application/vnd.jupyter.widget-view+json": {
       "model_id": "dde91d96571e42deb34faec928556f32",
       "version_major": 2,
       "version_minor": 0
      },
      "text/plain": [
       "HBox(children=(IntProgress(value=0, max=20), HTML(value='')))"
      ]
     },
     "metadata": {},
     "output_type": "display_data"
    },
    {
     "name": "stdout",
     "output_type": "stream",
     "text": [
      "\n"
     ]
    }
   ],
   "source": [
    "# First pre-download\n",
    "for batch_filename in tqdm_notebook(batch_sample):\n",
    "    batch = get_batch(batch_filename)"
   ]
  },
  {
   "cell_type": "code",
   "execution_count": 17,
   "metadata": {},
   "outputs": [
    {
     "data": {
      "application/vnd.jupyter.widget-view+json": {
       "model_id": "120fa0c092c04804882cbd07fe6212cd",
       "version_major": 2,
       "version_minor": 0
      },
      "text/plain": [
       "HBox(children=(IntProgress(value=0, max=20), HTML(value='')))"
      ]
     },
     "metadata": {},
     "output_type": "display_data"
    },
    {
     "name": "stdout",
     "output_type": "stream",
     "text": [
      "\n"
     ]
    }
   ],
   "source": [
    "status_stats = []\n",
    "target_types = []\n",
    "\n",
    "for batch_filename in tqdm_notebook(batch_sample):\n",
    "    batch = get_batch(batch_filename)\n",
    "    \n",
    "    for desc_gz_filename, data_gz_filename in zip(batch['desc_gz_filenames'], batch['data_gz_filenames']):\n",
    "        status, assay_obj = process_assay_description(os.path.join(batch['batch_desc_folder'], desc_gz_filename))\n",
    "        status_stats.append(status)\n",
    "        if status == STATUS_OK:\n",
    "            target_types.append(assay_obj['target_type'])\n",
    "            process_assay_data(os.path.join(batch['batch_data_folder'], data_gz_filename))\n",
    "#             break\n",
    "#     clean_up_batch(batch_filename)"
   ]
  },
  {
   "cell_type": "code",
   "execution_count": 18,
   "metadata": {},
   "outputs": [],
   "source": [
    "def pie_counter(c):\n",
    "    plt.pie(c.values(), labels=c.keys())"
   ]
  },
  {
   "cell_type": "code",
   "execution_count": 19,
   "metadata": {},
   "outputs": [
    {
     "data": {
      "image/png": "[encoded data removed]",
      "text/plain": [
       "<Figure size 864x576 with 2 Axes>"
      ]
     },
     "metadata": {},
     "output_type": "display_data"
    }
   ],
   "source": [
    "plt.figure(figsize=(12,8))\n",
    "\n",
    "plt.subplot(121)\n",
    "plt.title('Assays')\n",
    "pie_counter(Counter(status_stats))\n",
    "\n",
    "plt.subplot(122)\n",
    "plt.title('Target types')\n",
    "pie_counter(Counter(target_types))"
   ]
  },
  {
   "cell_type": "code",
   "execution_count": null,
   "metadata": {},
   "outputs": [],
   "source": [
    "# remove the files\n",
    "for batch_filename in tqdm_notebook(batch_sample):\n",
    "    batch = clean_up_batch(batch_filename)"
   ]
  }
 ],
 "metadata": {
  "kernelspec": {
   "display_name": "Python 3",
   "language": "python",
   "name": "python3"
  },
  "language_info": {
   "codemirror_mode": {
    "name": "ipython",
    "version": 3
   },
   "file_extension": ".py",
   "mimetype": "text/x-python",
   "name": "python",
   "nbconvert_exporter": "python",
   "pygments_lexer": "ipython3",
   "version": "3.7.0"
  }
 },
 "nbformat": 4,
 "nbformat_minor": 2
}
