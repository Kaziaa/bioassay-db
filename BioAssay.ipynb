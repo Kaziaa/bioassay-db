{
 "cells": [
  {
   "cell_type": "code",
   "execution_count": 1,
   "metadata": {},
   "outputs": [],
   "source": [
    "from collections import Counter\n",
    "import os\n",
    "import shutil\n",
    "from urllib.parse import urlparse, urljoin\n",
    "import ftplib\n",
    "from zipfile import ZipFile\n",
    "import gzip\n",
    "import xml.etree.ElementTree as XML_ET\n",
    "import csv\n",
    "import matplotlib.pyplot as plt\n",
    "import pandas as pd\n",
    "\n",
    "from tqdm import tqdm_notebook\n",
    "%matplotlib inline"
   ]
  },
  {
   "cell_type": "markdown",
   "metadata": {},
   "source": [
    "## Get list of .zip batch files to download"
   ]
  },
  {
   "cell_type": "code",
   "execution_count": 2,
   "metadata": {},
   "outputs": [],
   "source": [
    "BASE_URL = 'ftp://ftp.ncbi.nlm.nih.gov/pubchem/'\n",
    "BIOASSAY_DATA_FOLDER = 'Bioassay/CSV/Data'  # this folder contains .CSV files with measured compounds\n",
    "BIOASSAY_DESC_FOLDER = 'Bioassay/CSV/Description'  # this folder contains info about assay e.g. the target"
   ]
  },
  {
   "cell_type": "code",
   "execution_count": 3,
   "metadata": {},
   "outputs": [],
   "source": [
    "parsed_url = urlparse(BASE_URL)"
   ]
  },
  {
   "cell_type": "code",
   "execution_count": 4,
   "metadata": {},
   "outputs": [
    {
     "name": "stdout",
     "output_type": "stream",
     "text": [
      "220-\n",
      " This warning banner provides privacy and security notices consistent with \n",
      " applicable federal laws, directives, and other federal guidance for accessing \n",
      " this Government system, which includes all devices/storage media attached to \n",
      " this system. This system is provided for Government-authorized use only. \n",
      " Unauthorized or improper use of this system is prohibited and may result in \n",
      " disciplinary action and/or civil and criminal penalties. At any time, and for \n",
      " any lawful Government purpose, the government may monitor, record, and audit \n",
      " your system usage and/or intercept, search and seize any communication or data \n",
      " transiting or stored on this system. Therefore, you have no reasonable \n",
      " expectation of privacy. Any communication or data transiting or stored on this \n",
      " system may be disclosed or used for any lawful Government purpose.\n",
      "220 FTP Server ready.\n",
      "230 Anonymous access granted, restrictions apply\n",
      "250 CWD command successful\n"
     ]
    }
   ],
   "source": [
    "try:\n",
    "    with ftplib.FTP() as ftp:\n",
    "        print(ftp.connect(parsed_url.netloc))\n",
    "        print(ftp.login())\n",
    "        print(ftp.cwd(os.path.join(parsed_url.path, BIOASSAY_DATA_FOLDER)))\n",
    "        dir_list = ftp.nlst()\n",
    "        dir_list_sizes = [x for x in ftp.mlsd(facts = [\"type\", \"size\"])]\n",
    "except Exception as e:\n",
    "    print(e)"
   ]
  },
  {
   "cell_type": "code",
   "execution_count": 5,
   "metadata": {},
   "outputs": [
    {
     "data": {
      "text/plain": [
       "['0000001_0001000.zip',\n",
       " '0001001_0002000.zip',\n",
       " '0002001_0003000.zip',\n",
       " '0003001_0004000.zip',\n",
       " '0092001_0093000.zip',\n",
       " '0005001_0006000.zip',\n",
       " '0013001_0014000.zip',\n",
       " '0007001_0008000.zip',\n",
       " '0008001_0009000.zip',\n",
       " '0009001_0010000.zip']"
      ]
     },
     "execution_count": 5,
     "metadata": {},
     "output_type": "execute_result"
    }
   ],
   "source": [
    "dir_list[:10]"
   ]
  },
  {
   "cell_type": "code",
   "execution_count": 6,
   "metadata": {},
   "outputs": [
    {
     "data": {
      "text/plain": [
       "[('.', {'size': '69632', 'type': 'cdir'}),\n",
       " ('..', {'size': '4096', 'type': 'pdir'}),\n",
       " ('0000001_0001000.zip', {'size': '425423906', 'type': 'file'}),\n",
       " ('0001001_0002000.zip', {'size': '791478416', 'type': 'file'}),\n",
       " ('0002001_0003000.zip', {'size': '586939677', 'type': 'file'}),\n",
       " ('0003001_0004000.zip', {'size': '658847', 'type': 'file'}),\n",
       " ('0092001_0093000.zip', {'size': '684343', 'type': 'file'}),\n",
       " ('0005001_0006000.zip', {'size': '694767', 'type': 'file'}),\n",
       " ('0013001_0014000.zip', {'size': '557700', 'type': 'file'}),\n",
       " ('0007001_0008000.zip', {'size': '600294', 'type': 'file'})]"
      ]
     },
     "execution_count": 6,
     "metadata": {},
     "output_type": "execute_result"
    }
   ],
   "source": [
    "dir_list_sizes[:10]"
   ]
  },
  {
   "cell_type": "markdown",
   "metadata": {},
   "source": [
    "## Download a single batch\n",
    "\n",
    "Download and extract"
   ]
  },
  {
   "cell_type": "code",
   "execution_count": 7,
   "metadata": {},
   "outputs": [],
   "source": [
    "def get_batch(batch_filename):\n",
    "    '''\n",
    "    This downloads a .zip file with description and data and extracts it\n",
    "    returns dict with info about the batch, such as paths to files etc.\n",
    "    '''\n",
    "    batch_name, batch_extension = os.path.splitext(batch_filename)\n",
    "    if batch_extension != '.zip':\n",
    "        raise Exception('Batch filename must have .zip extension ({})'.format(batch_filename))\n",
    "    \n",
    "    \n",
    "    # We copy the folder structure of the server\n",
    "    os.makedirs(BIOASSAY_DATA_FOLDER, exist_ok=True)\n",
    "    os.makedirs(BIOASSAY_DESC_FOLDER, exist_ok=True)\n",
    "    batch_data_path = os.path.join(BIOASSAY_DATA_FOLDER, batch_filename)\n",
    "    batch_desc_path = os.path.join(BIOASSAY_DESC_FOLDER, batch_filename)\n",
    "    \n",
    "    \n",
    "    # Download the files\n",
    "    if not os.path.exists(batch_data_path) or not os.path.exists(batch_desc_path):\n",
    "        try:\n",
    "            with ftplib.FTP() as ftp, open(batch_data_path, 'wb') as f_data, open(batch_desc_path, 'wb') as f_description:\n",
    "                print(ftp.connect(parsed_url.netloc))\n",
    "                print(ftp.login())\n",
    "                print(ftp.cwd(parsed_url.path))\n",
    "                print(ftp.retrbinary('RETR ' + batch_data_path, f_data.write))\n",
    "                print('Downloaded data file %s (%d MB)' % (batch_data_path, os.path.getsize(batch_data_path)//1024//1024))\n",
    "                print(ftp.retrbinary('RETR ' + batch_desc_path, f_description.write))\n",
    "                print('Downloaded desc file %s (%d MB)' % (batch_desc_path, os.path.getsize(batch_desc_path)//1024//1024))\n",
    "        except ftplib.all_errors as e:\n",
    "            print('There was and error with FTP connection')\n",
    "            print(e)\n",
    "        \n",
    "    \n",
    "    \n",
    "    # Unzip the files\n",
    "    batch_data_folder = os.path.join(BIOASSAY_DATA_FOLDER, batch_name)\n",
    "    batch_desc_folder = os.path.join(BIOASSAY_DESC_FOLDER, batch_name)\n",
    "    \n",
    "    if not os.path.exists(batch_data_folder) or not os.path.exists(batch_desc_folder):\n",
    "        with ZipFile(batch_data_path) as zf:\n",
    "            zf.extractall(BIOASSAY_DATA_FOLDER)\n",
    "\n",
    "        with ZipFile(batch_desc_path) as zf:\n",
    "            zf.extractall(BIOASSAY_DESC_FOLDER)\n",
    "    \n",
    "    \n",
    "        # Inside the .zip files should be a directory <batch_name> with (csv/xml).gz files that got extracted\n",
    "        if not os.path.isdir(batch_data_folder) or not os.path.isdir(batch_desc_folder):\n",
    "            raise Exception('Batch data or description folders were not correctly extracted ({}, {})'.format(batch_data_folder, batch_desc_folder))\n",
    "\n",
    "    data_gz_filenames = os.listdir(batch_data_folder)\n",
    "    desc_gz_filenames = os.listdir(batch_desc_folder)\n",
    "\n",
    "#     extracted_data_size = sum(os.path.getsize(os.path.join(batch_data_folder,gz_file_name)) for gz_file_name in data_gz_filenames)\n",
    "#     extracted_desc_size = sum(os.path.getsize(os.path.join(batch_desc_folder,gz_file_name)) for gz_file_name in desc_gz_filenames)\n",
    "#     print('Extracted %d data files (%d KB)' % (len(data_gz_filenames), extracted_data_size//1024))\n",
    "#     print('Extracted %d desc files (%d KB)' % (len(desc_gz_filenames), extracted_desc_size//1024))\n",
    "    \n",
    "    return {'batch_name':batch_name, 'batch_data_folder':batch_data_folder, 'batch_desc_folder':batch_desc_folder,'data_gz_filenames':data_gz_filenames, 'desc_gz_filenames':desc_gz_filenames}\n",
    "    "
   ]
  },
  {
   "cell_type": "code",
   "execution_count": 8,
   "metadata": {},
   "outputs": [],
   "source": [
    "def clean_up_batch(batch_filename):\n",
    "    '''\n",
    "    This removes the downloaded and extracted files\n",
    "    '''\n",
    "    batch_data_path = os.path.join(BIOASSAY_DATA_FOLDER, batch_filename)\n",
    "    batch_desc_path = os.path.join(BIOASSAY_DESC_FOLDER, batch_filename)\n",
    "    batch_name, batch_extension = os.path.splitext(batch_filename)\n",
    "    batch_data_folder = os.path.join(BIOASSAY_DATA_FOLDER, batch_name)\n",
    "    batch_desc_folder = os.path.join(BIOASSAY_DESC_FOLDER, batch_name)\n",
    "    \n",
    "    # Remove .zip files\n",
    "    if os.path.exists(batch_data_path):\n",
    "        os.remove(batch_data_path)\n",
    "    if os.path.exists(batch_desc_path):\n",
    "        os.remove(batch_desc_path)\n",
    "    \n",
    "    # Remove extracted folders\n",
    "    if os.path.exists(batch_data_folder):\n",
    "        shutil.rmtree(batch_data_folder)\n",
    "    if os.path.exists(batch_desc_folder):\n",
    "        shutil.rmtree(batch_desc_folder)"
   ]
  },
  {
   "cell_type": "markdown",
   "metadata": {},
   "source": [
    "## Process assay descriptions\n",
    "\n",
    "Extract information about the target"
   ]
  },
  {
   "cell_type": "code",
   "execution_count": 14,
   "metadata": {},
   "outputs": [],
   "source": [
    "ASSAY_DESC_STATUS_MORE_TARGETS = 'more_targets'\n",
    "ASSAY_DESC_STATUS_NO_TARGET = 'no_target'\n",
    "ASSAY_DESC_STATUS_TARGET_NO_ACCESSION = 'target_no_accession'\n",
    "ASSAY_DESC_STATUS_OK = 'ok'\n",
    "ASSAY_DESC_STATUS_ERROR = 'error'\n",
    "\n",
    "def process_assay_description(path_to_description):\n",
    "    '''\n",
    "    This processes the description .xml file to extract information about the target\n",
    "    returns (status, assay_obj), where status can be one of ASSAY_DESC_STATUS_* constants; assay_obj is a dict and its fields vary according to the status\n",
    "    In case of an error, returns (ASSAY_DESC_STATUS_ERROR, error_msg)\n",
    "    '''\n",
    "    with gzip.open(path_to_description, 'rt') as f:\n",
    "        xml_tree = XML_ET.parse(f)\n",
    "        \n",
    "    namespaces = {'ncbi':'http://www.ncbi.nlm.nih.gov'}\n",
    "\n",
    "    assay_id = xml_tree.find('.//ncbi:PC-ID_id', namespaces=namespaces).text\n",
    "    assay_version = xml_tree.find('.//ncbi:PC-ID_version', namespaces=namespaces).text\n",
    "    assay_obj = {'assay_id':assay_id, 'assay_version':assay_version}\n",
    "\n",
    "    target_info_root_elements = xml_tree.findall('.//ncbi:PC-AssayTargetInfo', namespaces=namespaces)\n",
    "    if len(target_info_root_elements) > 1:\n",
    "        return ASSAY_DESC_STATUS_MORE_TARGETS, assay_obj\n",
    "    if len(target_info_root_elements) < 1:\n",
    "        return ASSAY_DESC_STATUS_NO_TARGET, assay_obj\n",
    "\n",
    "    target_info_root_element = target_info_root_elements[0]\n",
    "\n",
    "    target_id = target_info_root_element.find('ncbi:PC-AssayTargetInfo_mol-id', namespaces=namespaces).text\n",
    "    target_name = target_info_root_element.find('ncbi:PC-AssayTargetInfo_name', namespaces=namespaces).text\n",
    "    target_type = target_info_root_element.find('ncbi:PC-AssayTargetInfo_molecule-type', namespaces=namespaces).attrib['value']\n",
    "    \n",
    "    assay_obj.update({'target_id':target_id, 'target_name':target_name, 'target_type':target_type})\n",
    "    \n",
    "    # Comments usually contain one element with text 'Protein Accession: <id>'\n",
    "    target_protein_accession = None\n",
    "    target_info_comment_e = target_info_root_element.find('ncbi:PC-AssayTargetInfo_comment', namespaces=namespaces)\n",
    "    if target_info_comment_e:\n",
    "        for e in target_info_comment_e:\n",
    "            sp = e.text.split(':')\n",
    "            if len(sp) == 2 and sp[0] == 'Protein Accession':\n",
    "                target_protein_accession = sp[1]\n",
    "        assay_obj.update({'target_protein_accession':target_protein_accession})\n",
    "    else:\n",
    "        # This happens when the record has been removed or replaced or some other weird stuff,\n",
    "        # we drop this assay\n",
    "        return ASSAY_DESC_STATUS_TARGET_NO_ACCESSION, assay_obj\n",
    "    \n",
    "    \n",
    "    # Some assays have a gene_id cross reference\n",
    "    protein_gi_elms = target_info_root_element.findall('.//ncbi:PC-XRefData_protein-gi', namespaces=namespaces)\n",
    "    if len(protein_gi_elms) > 1:\n",
    "        return ASSAY_DESC_STATUS_ERROR, 'There are more gene ids'\n",
    "    if protein_gi_elms:\n",
    "        target_gi = protein_gi_elms[0].text\n",
    "    else:\n",
    "        target_gi = None\n",
    "    assay_obj.update({'target_gi':target_gi})\n",
    "\n",
    "    # Process assay description comments\n",
    "#     for comment_e in xml_tree.findall('.//ncbi:PC-AssayDescription_comment_E', namespaces=namespaces):\n",
    "#         pass\n",
    "\n",
    "    return ASSAY_DESC_STATUS_OK, assay_obj"
   ]
  },
  {
   "cell_type": "markdown",
   "metadata": {},
   "source": [
    "## Process assay data"
   ]
  },
  {
   "cell_type": "code",
   "execution_count": 15,
   "metadata": {},
   "outputs": [],
   "source": [
    "COLUMNS_TO_EXTRACT = 'PUBCHEM_RESULT_TAG,PUBCHEM_SID,PUBCHEM_CID,PUBCHEM_ACTIVITY_OUTCOME,Standard Value,Standard Type,Standard Relation,Standard Units'.split(',')\n",
    "\n",
    "ASSAY_DATA_STATUS_OK = 'ok'\n",
    "ASSAY_DATA_STATUS_INCOMPLETE_INFORMATION = 'incomplete_information'\n",
    "ASSAY_DATA_STATUS_ERROR = 'error'\n",
    "\n",
    "def dict_union(a,b):\n",
    "#     c = dict(a)\n",
    "#     c.update(b)\n",
    "#     return c\n",
    "    return dict(a, **b)\n",
    "\n",
    "def process_assay_data(path_to_description):\n",
    "    '''\n",
    "    This extracts the measurements (Ki, IC50, etc) for the assay\n",
    "    returns (status, result)\n",
    "    More specifically:\n",
    "        (ASSAY_DATA_STATUS_OK, rows), where rows is list of dicts with keys from COLUMNS_TO_EXTRACT\n",
    "        or (ASSAY_DATA_STATUS_INCOMPLETE_INFORMATION, columns_present), where columns_present is a list of pairs (column_name, is_present)\n",
    "        or (ASSAY_DATA_STATUS_ERROR, error_message) in case of an error\n",
    "    \n",
    "    '''\n",
    "    with gzip.open(path_to_description, 'rt') as f:\n",
    "        csv_reader = csv.reader(f)\n",
    "        header = next(csv_reader)\n",
    "        header_set = set(header)\n",
    "\n",
    "        columns_present = tuple(x in header_set for x in COLUMNS_TO_EXTRACT)\n",
    "        if not all(columns_present):\n",
    "            return ASSAY_DATA_STATUS_INCOMPLETE_INFORMATION, tuple(zip(COLUMNS_TO_EXTRACT, columns_present))\n",
    "        \n",
    "        rows = ({k:v for k,v in zip(header, line)} for line in csv_reader if line[0].isdigit())\n",
    "        rows_extracted = [{k:row[k] for k in COLUMNS_TO_EXTRACT} for row in rows]\n",
    "        \n",
    "    return ASSAY_DATA_STATUS_OK, rows_extracted\n",
    "            "
   ]
  },
  {
   "cell_type": "markdown",
   "metadata": {},
   "source": [
    "## Go"
   ]
  },
  {
   "cell_type": "code",
   "execution_count": 16,
   "metadata": {},
   "outputs": [],
   "source": [
    "batch_sample = dir_list[:20]"
   ]
  },
  {
   "cell_type": "code",
   "execution_count": 17,
   "metadata": {},
   "outputs": [
    {
     "data": {
      "application/vnd.jupyter.widget-view+json": {
       "model_id": "fc9531582340479f992f845b1110e2d8",
       "version_major": 2,
       "version_minor": 0
      },
      "text/plain": [
       "HBox(children=(IntProgress(value=0, max=20), HTML(value='')))"
      ]
     },
     "metadata": {},
     "output_type": "display_data"
    },
    {
     "name": "stdout",
     "output_type": "stream",
     "text": [
      "\n"
     ]
    }
   ],
   "source": [
    "# First pre-download\n",
    "for batch_filename in tqdm_notebook(batch_sample):\n",
    "    batch = get_batch(batch_filename)"
   ]
  },
  {
   "cell_type": "code",
   "execution_count": 18,
   "metadata": {},
   "outputs": [
    {
     "data": {
      "application/vnd.jupyter.widget-view+json": {
       "model_id": "77f697c55c4940e9b9fc5ea0c0844b22",
       "version_major": 2,
       "version_minor": 0
      },
      "text/plain": [
       "HBox(children=(IntProgress(value=0, max=20), HTML(value='')))"
      ]
     },
     "metadata": {},
     "output_type": "display_data"
    },
    {
     "name": "stdout",
     "output_type": "stream",
     "text": [
      "\n"
     ]
    }
   ],
   "source": [
    "desc_status_stats = []\n",
    "target_types = []\n",
    "assay_status_stats = []\n",
    "\n",
    "all_rows = []\n",
    "\n",
    "for batch_filename in tqdm_notebook(batch_sample):\n",
    "    batch = get_batch(batch_filename)\n",
    "    \n",
    "    for desc_gz_filename, data_gz_filename in zip(batch['desc_gz_filenames'], batch['data_gz_filenames']):\n",
    "        assay_desc_path = os.path.join(batch['batch_desc_folder'], desc_gz_filename)\n",
    "        assay_data_path = os.path.join(batch['batch_data_folder'], data_gz_filename)\n",
    "        \n",
    "        desc_status, desc_result = process_assay_description(assay_desc_path)\n",
    "        desc_status_stats.append(desc_status)\n",
    "        \n",
    "        if desc_status == ASSAY_DESC_STATUS_OK:\n",
    "            assay_obj = desc_result\n",
    "            target_types.append(assay_obj['target_type'])\n",
    "            \n",
    "            assay_status, data_result = process_assay_data(assay_data_path)\n",
    "            assay_status_stats.append(assay_status)\n",
    "            \n",
    "            if assay_status == ASSAY_DATA_STATUS_OK:\n",
    "                all_rows.extend(dict_union(assay_obj, row) for row in data_result)\n",
    "            elif assay_status == ASSAY_DATA_STATUS_ERROR:\n",
    "                print('Error with data of assay \"{}\": {}'.format(assay_data_path, data_result))\n",
    "        elif desc_status == ASSAY_DESC_STATUS_ERROR:\n",
    "            print('Error with description of assay \"{}\": {}'.format(assay_desc_path, desc_result))"
   ]
  },
  {
   "cell_type": "code",
   "execution_count": 19,
   "metadata": {},
   "outputs": [],
   "source": [
    "def pie_counter(c):\n",
    "    plt.pie(c.values(), labels=c.keys(), autopct='%1.1f%%', shadow=True)\n",
    "    \n",
    "def pie(a):\n",
    "    pie_counter(Counter(a))"
   ]
  },
  {
   "cell_type": "code",
   "execution_count": 20,
   "metadata": {},
   "outputs": [
    {
     "data": {
      "image/png": "[encoded data removed]",
      "text/plain": [
       "<Figure size 864x1008 with 3 Axes>"
      ]
     },
     "metadata": {},
     "output_type": "display_data"
    }
   ],
   "source": [
    "plt.figure(figsize=(12,14))\n",
    "\n",
    "plt.subplot(221)\n",
    "plt.title('Assay descriptions')\n",
    "pie(desc_status_stats)\n",
    "\n",
    "plt.subplot(222)\n",
    "plt.title('Target types')\n",
    "pie(target_types)\n",
    "\n",
    "plt.subplot(223)\n",
    "plt.title('Assay data (when description status is ok)')\n",
    "pie(assay_status_stats)"
   ]
  },
  {
   "cell_type": "code",
   "execution_count": 27,
   "metadata": {},
   "outputs": [],
   "source": [
    "df = pd.DataFrame(all_rows)"
   ]
  },
  {
   "cell_type": "code",
   "execution_count": 28,
   "metadata": {},
   "outputs": [],
   "source": [
    "# df.fillna(value=pd.np.nan, inplace=True)"
   ]
  },
  {
   "cell_type": "code",
   "execution_count": 31,
   "metadata": {},
   "outputs": [
    {
     "data": {
      "text/html": [
       "<div>\n",
       "<style scoped>\n",
       "    .dataframe tbody tr th:only-of-type {\n",
       "        vertical-align: middle;\n",
       "    }\n",
       "\n",
       "    .dataframe tbody tr th {\n",
       "        vertical-align: top;\n",
       "    }\n",
       "\n",
       "    .dataframe thead th {\n",
       "        text-align: right;\n",
       "    }\n",
       "</style>\n",
       "<table border=\"1\" class=\"dataframe\">\n",
       "  <thead>\n",
       "    <tr style=\"text-align: right;\">\n",
       "      <th></th>\n",
       "      <th>PUBCHEM_ACTIVITY_OUTCOME</th>\n",
       "      <th>PUBCHEM_CID</th>\n",
       "      <th>PUBCHEM_RESULT_TAG</th>\n",
       "      <th>PUBCHEM_SID</th>\n",
       "      <th>Standard Relation</th>\n",
       "      <th>Standard Type</th>\n",
       "      <th>Standard Units</th>\n",
       "      <th>Standard Value</th>\n",
       "      <th>assay_id</th>\n",
       "      <th>assay_version</th>\n",
       "      <th>target_gi</th>\n",
       "      <th>target_id</th>\n",
       "      <th>target_name</th>\n",
       "      <th>target_protein_accession</th>\n",
       "      <th>target_type</th>\n",
       "    </tr>\n",
       "  </thead>\n",
       "  <tbody>\n",
       "    <tr>\n",
       "      <th>0</th>\n",
       "      <td>Active</td>\n",
       "      <td>6167</td>\n",
       "      <td>1</td>\n",
       "      <td>103177124</td>\n",
       "      <td>=</td>\n",
       "      <td>IC50</td>\n",
       "      <td>nM</td>\n",
       "      <td>11.9</td>\n",
       "      <td>2979</td>\n",
       "      <td>8</td>\n",
       "      <td>None</td>\n",
       "      <td>1352387</td>\n",
       "      <td>Lanosterol synthase</td>\n",
       "      <td>P48449</td>\n",
       "      <td>protein</td>\n",
       "    </tr>\n",
       "    <tr>\n",
       "      <th>1</th>\n",
       "      <td>Active</td>\n",
       "      <td>628524</td>\n",
       "      <td>2</td>\n",
       "      <td>103231321</td>\n",
       "      <td>=</td>\n",
       "      <td>IC50</td>\n",
       "      <td>nM</td>\n",
       "      <td>60</td>\n",
       "      <td>2979</td>\n",
       "      <td>8</td>\n",
       "      <td>None</td>\n",
       "      <td>1352387</td>\n",
       "      <td>Lanosterol synthase</td>\n",
       "      <td>P48449</td>\n",
       "      <td>protein</td>\n",
       "    </tr>\n",
       "    <tr>\n",
       "      <th>2</th>\n",
       "      <td>Active</td>\n",
       "      <td>10386594</td>\n",
       "      <td>3</td>\n",
       "      <td>103310610</td>\n",
       "      <td>=</td>\n",
       "      <td>IC50</td>\n",
       "      <td>nM</td>\n",
       "      <td>2.7</td>\n",
       "      <td>2979</td>\n",
       "      <td>8</td>\n",
       "      <td>None</td>\n",
       "      <td>1352387</td>\n",
       "      <td>Lanosterol synthase</td>\n",
       "      <td>P48449</td>\n",
       "      <td>protein</td>\n",
       "    </tr>\n",
       "    <tr>\n",
       "      <th>3</th>\n",
       "      <td>Active</td>\n",
       "      <td>9973774</td>\n",
       "      <td>4</td>\n",
       "      <td>103310642</td>\n",
       "      <td>=</td>\n",
       "      <td>IC50</td>\n",
       "      <td>nM</td>\n",
       "      <td>82</td>\n",
       "      <td>2979</td>\n",
       "      <td>8</td>\n",
       "      <td>None</td>\n",
       "      <td>1352387</td>\n",
       "      <td>Lanosterol synthase</td>\n",
       "      <td>P48449</td>\n",
       "      <td>protein</td>\n",
       "    </tr>\n",
       "    <tr>\n",
       "      <th>4</th>\n",
       "      <td>Active</td>\n",
       "      <td>20039</td>\n",
       "      <td>1</td>\n",
       "      <td>103191505</td>\n",
       "      <td>=</td>\n",
       "      <td>EC50</td>\n",
       "      <td>nM</td>\n",
       "      <td>6000</td>\n",
       "      <td>2993</td>\n",
       "      <td>4</td>\n",
       "      <td>None</td>\n",
       "      <td>20141791</td>\n",
       "      <td>2-5A-dependent ribonuclease</td>\n",
       "      <td>Q05921</td>\n",
       "      <td>protein</td>\n",
       "    </tr>\n",
       "    <tr>\n",
       "      <th>5</th>\n",
       "      <td>Active</td>\n",
       "      <td>64975</td>\n",
       "      <td>2</td>\n",
       "      <td>103220966</td>\n",
       "      <td>=</td>\n",
       "      <td>EC50</td>\n",
       "      <td>nM</td>\n",
       "      <td>1200</td>\n",
       "      <td>2993</td>\n",
       "      <td>4</td>\n",
       "      <td>None</td>\n",
       "      <td>20141791</td>\n",
       "      <td>2-5A-dependent ribonuclease</td>\n",
       "      <td>Q05921</td>\n",
       "      <td>protein</td>\n",
       "    </tr>\n",
       "    <tr>\n",
       "      <th>6</th>\n",
       "      <td>Unspecified</td>\n",
       "      <td>135841357</td>\n",
       "      <td>3</td>\n",
       "      <td>103225076</td>\n",
       "      <td>&gt;</td>\n",
       "      <td>EC50</td>\n",
       "      <td>nM</td>\n",
       "      <td>10000</td>\n",
       "      <td>2993</td>\n",
       "      <td>4</td>\n",
       "      <td>None</td>\n",
       "      <td>20141791</td>\n",
       "      <td>2-5A-dependent ribonuclease</td>\n",
       "      <td>Q05921</td>\n",
       "      <td>protein</td>\n",
       "    </tr>\n",
       "    <tr>\n",
       "      <th>7</th>\n",
       "      <td>Unspecified</td>\n",
       "      <td>135431125</td>\n",
       "      <td>4</td>\n",
       "      <td>103225564</td>\n",
       "      <td>&gt;</td>\n",
       "      <td>EC50</td>\n",
       "      <td>nM</td>\n",
       "      <td>10000</td>\n",
       "      <td>2993</td>\n",
       "      <td>4</td>\n",
       "      <td>None</td>\n",
       "      <td>20141791</td>\n",
       "      <td>2-5A-dependent ribonuclease</td>\n",
       "      <td>Q05921</td>\n",
       "      <td>protein</td>\n",
       "    </tr>\n",
       "    <tr>\n",
       "      <th>8</th>\n",
       "      <td>Unspecified</td>\n",
       "      <td>135463029</td>\n",
       "      <td>5</td>\n",
       "      <td>103277154</td>\n",
       "      <td>&gt;</td>\n",
       "      <td>EC50</td>\n",
       "      <td>nM</td>\n",
       "      <td>10000</td>\n",
       "      <td>2993</td>\n",
       "      <td>4</td>\n",
       "      <td>None</td>\n",
       "      <td>20141791</td>\n",
       "      <td>2-5A-dependent ribonuclease</td>\n",
       "      <td>Q05921</td>\n",
       "      <td>protein</td>\n",
       "    </tr>\n",
       "    <tr>\n",
       "      <th>9</th>\n",
       "      <td>Unspecified</td>\n",
       "      <td>135398739</td>\n",
       "      <td>6</td>\n",
       "      <td>103529091</td>\n",
       "      <td>&gt;</td>\n",
       "      <td>EC50</td>\n",
       "      <td>nM</td>\n",
       "      <td>10000</td>\n",
       "      <td>2993</td>\n",
       "      <td>4</td>\n",
       "      <td>None</td>\n",
       "      <td>20141791</td>\n",
       "      <td>2-5A-dependent ribonuclease</td>\n",
       "      <td>Q05921</td>\n",
       "      <td>protein</td>\n",
       "    </tr>\n",
       "  </tbody>\n",
       "</table>\n",
       "</div>"
      ],
      "text/plain": [
       "  PUBCHEM_ACTIVITY_OUTCOME PUBCHEM_CID PUBCHEM_RESULT_TAG PUBCHEM_SID  \\\n",
       "0                   Active        6167                  1   103177124   \n",
       "1                   Active      628524                  2   103231321   \n",
       "2                   Active    10386594                  3   103310610   \n",
       "3                   Active     9973774                  4   103310642   \n",
       "4                   Active       20039                  1   103191505   \n",
       "5                   Active       64975                  2   103220966   \n",
       "6              Unspecified   135841357                  3   103225076   \n",
       "7              Unspecified   135431125                  4   103225564   \n",
       "8              Unspecified   135463029                  5   103277154   \n",
       "9              Unspecified   135398739                  6   103529091   \n",
       "\n",
       "  Standard Relation Standard Type Standard Units Standard Value assay_id  \\\n",
       "0                 =          IC50             nM           11.9     2979   \n",
       "1                 =          IC50             nM             60     2979   \n",
       "2                 =          IC50             nM            2.7     2979   \n",
       "3                 =          IC50             nM             82     2979   \n",
       "4                 =          EC50             nM           6000     2993   \n",
       "5                 =          EC50             nM           1200     2993   \n",
       "6                 >          EC50             nM          10000     2993   \n",
       "7                 >          EC50             nM          10000     2993   \n",
       "8                 >          EC50             nM          10000     2993   \n",
       "9                 >          EC50             nM          10000     2993   \n",
       "\n",
       "  assay_version target_gi target_id                  target_name  \\\n",
       "0             8      None   1352387          Lanosterol synthase   \n",
       "1             8      None   1352387          Lanosterol synthase   \n",
       "2             8      None   1352387          Lanosterol synthase   \n",
       "3             8      None   1352387          Lanosterol synthase   \n",
       "4             4      None  20141791  2-5A-dependent ribonuclease   \n",
       "5             4      None  20141791  2-5A-dependent ribonuclease   \n",
       "6             4      None  20141791  2-5A-dependent ribonuclease   \n",
       "7             4      None  20141791  2-5A-dependent ribonuclease   \n",
       "8             4      None  20141791  2-5A-dependent ribonuclease   \n",
       "9             4      None  20141791  2-5A-dependent ribonuclease   \n",
       "\n",
       "  target_protein_accession target_type  \n",
       "0                   P48449     protein  \n",
       "1                   P48449     protein  \n",
       "2                   P48449     protein  \n",
       "3                   P48449     protein  \n",
       "4                   Q05921     protein  \n",
       "5                   Q05921     protein  \n",
       "6                   Q05921     protein  \n",
       "7                   Q05921     protein  \n",
       "8                   Q05921     protein  \n",
       "9                   Q05921     protein  "
      ]
     },
     "execution_count": 31,
     "metadata": {},
     "output_type": "execute_result"
    }
   ],
   "source": [
    "df.head(10)"
   ]
  },
  {
   "cell_type": "code",
   "execution_count": 40,
   "metadata": {},
   "outputs": [
    {
     "data": {
      "text/plain": [
       "<matplotlib.axes._subplots.AxesSubplot at 0x7f68f72a19e8>"
      ]
     },
     "execution_count": 40,
     "metadata": {},
     "output_type": "execute_result"
    },
    {
     "data": {
      "image/png": "[encoded data removed]",
      "text/plain": [
       "<Figure size 432x288 with 1 Axes>"
      ]
     },
     "metadata": {
      "needs_background": "light"
     },
     "output_type": "display_data"
    }
   ],
   "source": [
    "df.PUBCHEM_ACTIVITY_OUTCOME.value_counts().plot(kind='bar')"
   ]
  },
  {
   "cell_type": "code",
   "execution_count": 39,
   "metadata": {},
   "outputs": [
    {
     "data": {
      "image/png": "[encoded data removed]",
      "text/plain": [
       "<Figure size 432x288 with 1 Axes>"
      ]
     },
     "metadata": {},
     "output_type": "display_data"
    }
   ],
   "source": [
    "pie(df.PUBCHEM_ACTIVITY_OUTCOME)"
   ]
  },
  {
   "cell_type": "code",
   "execution_count": null,
   "metadata": {},
   "outputs": [],
   "source": [
    "# Remove the files\n",
    "# for batch_filename in tqdm_notebook(batch_sample):\n",
    "#     batch = clean_up_batch(batch_filename)"
   ]
  }
 ],
 "metadata": {
  "kernelspec": {
   "display_name": "Python 3",
   "language": "python",
   "name": "python3"
  },
  "language_info": {
   "codemirror_mode": {
    "name": "ipython",
    "version": 3
   },
   "file_extension": ".py",
   "mimetype": "text/x-python",
   "name": "python",
   "nbconvert_exporter": "python",
   "pygments_lexer": "ipython3",
   "version": "3.7.0"
  }
 },
 "nbformat": 4,
 "nbformat_minor": 2
}
